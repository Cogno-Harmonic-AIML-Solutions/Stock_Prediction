{
 "cells": [
  {
   "cell_type": "code",
   "execution_count": null,
   "id": "8d68693f-6cda-43f4-a805-fce526eaa751",
   "metadata": {},
   "outputs": [],
   "source": [
    "import yfinance as yf                                                   # Yahoo Finance for historical stock data\n",
    "import matplotlib.pyplot as plt                                         # For plotting graphs\n",
    "import pandas as pd                                                     # For data handling and analysis\n",
    "from sklearn.ensemble import RandomForestClassifier                     # Machine Learning model - Random Forest\n",
    "from sklearn.metrics import precision_score                             # Evaluation metric"
   ]
  },
  {
   "cell_type": "code",
   "execution_count": null,
   "id": "c225be30-dfb1-4883-b71e-e8b2110e1cf0",
   "metadata": {},
   "outputs": [],
   "source": [
    "pd.set_option(\"display.max_columns\", None)\n",
    "pd.set_option(\"display.width\", None)"
   ]
  },
  {
   "cell_type": "code",
   "execution_count": null,
   "id": "821496fc-8f4d-42de-991b-cdf85be2d933",
   "metadata": {},
   "outputs": [],
   "source": [
    "tatamotors = yf.Ticker(\"TATAMOTORS.NS\")                                 # 'TATAMOTORS.NS' is the NSE symbol for Tata Motors\n",
    "tatamotors = tatamotors.history(period=\"max\")                           # Load maximum available historical data"
   ]
  },
  {
   "cell_type": "code",
   "execution_count": null,
   "id": "f98228f1-1f73-416f-a1be-96007a730e7d",
   "metadata": {},
   "outputs": [],
   "source": [
    "print(\"\\n✅ Initial Data:\")\n",
    "print(tatamotors.head())\n",
    "tatamotors.drop(columns=[\"Dividends\", \"Stock Splits\"], inplace=True)    # Remove columns not useful for prediction\n",
    "tatamotors.dropna(inplace=True)                                         # Remove rows with missing values"
   ]
  },
  {
   "cell_type": "code",
   "execution_count": null,
   "id": "0fd436dc-531c-47e3-9299-b36a40012f22",
   "metadata": {},
   "outputs": [],
   "source": [
    "tatamotors.plot.line(y=\"Close\", use_index=True)\n",
    "plt.title(\"Tata Motors Closing Price Over Time\")\n",
    "plt.xlabel(\"Date\")\n",
    "plt.ylabel(\"Close Price\")\n",
    "plt.grid(True)\n",
    "plt.show()"
   ]
  },
  {
   "cell_type": "code",
   "execution_count": null,
   "id": "6484de30-eb9b-415f-843f-94b5b61e80c7",
   "metadata": {},
   "outputs": [],
   "source": [
    "tatamotors[\"Target\"] = (tatamotors[\"Close\"].shift(-1) > tatamotors[\"Close\"]).astype(int)\n",
    "print(\"\\n✅ Data with Target:\")\n",
    "print(tatamotors[[\"Close\", \"Target\"]].tail())"
   ]
  },
  {
   "cell_type": "code",
   "execution_count": null,
   "id": "416b9dbc-d2a6-49ac-80f1-cbd5abf03909",
   "metadata": {},
   "outputs": [],
   "source": [
    "model = RandomForestClassifier(n_estimators=100, min_samples_split=100, random_state=1)\n",
    "train = tatamotors.iloc[:-100]                                          # Training data (excluding last 100 rows)\n",
    "test = tatamotors.iloc[-100:]                                           # Testing data (last 100 rows)\n",
    "predictors = [\"Close\", \"Volume\", \"Open\", \"High\", \"Low\"]"
   ]
  },
  {
   "cell_type": "code",
   "execution_count": null,
   "id": "5a588513-aef2-4084-99dc-30ffb50a6947",
   "metadata": {},
   "outputs": [],
   "source": [
    "model.fit(train[predictors], train[\"Target\"])"
   ]
  },
  {
   "cell_type": "code",
   "execution_count": null,
   "id": "1eda030c-8aef-4ae8-95a8-9b4352595b6b",
   "metadata": {},
   "outputs": [],
   "source": [
    "preds = model.predict(test[predictors])\n",
    "preds = pd.Series(preds, index=test.index)\n",
    "precision = precision_score(test[\"Target\"], preds)\n",
    "print(\"\\n Baseline Precision Score:\", precision)"
   ]
  },
  {
   "cell_type": "code",
   "execution_count": null,
   "id": "17c2d498-addc-4bba-bf2e-0a65180bd1ab",
   "metadata": {},
   "outputs": [],
   "source": [
    "test_results = pd.concat([test[\"Target\"], preds], axis=1)\n",
    "test_results.columns = [\"Actual\", \"Predicted\"]\n",
    "test_results.plot(title=\"Actual vs Predicted Movement - Tata Motors\")\n",
    "plt.grid(True)\n",
    "plt.ylabel(\"Direction (0 = Down, 1 = Up)\")\n",
    "plt.show()"
   ]
  },
  {
   "cell_type": "code",
   "execution_count": null,
   "id": "43bc21f7-66c1-40e7-b094-6c1ef13fa1b1",
   "metadata": {},
   "outputs": [],
   "source": [
    "def predict(train, test, predictors, model):\n",
    "    model.fit(train[predictors], train[\"Target\"])\n",
    "    preds = model.predict(test[predictors])\n",
    "    preds = pd.Series(preds, index=test.index, name=\"Predictions\")\n",
    "    return pd.concat([test[\"Target\"], preds], axis=1)"
   ]
  },
  {
   "cell_type": "code",
   "execution_count": null,
   "id": "b599be12-6240-4194-b5ab-d8126ce43a2a",
   "metadata": {},
   "outputs": [],
   "source": [
    "def backtest(data, model, predictors, start=500, step=100):\n",
    "    all_predictions = []\n",
    "    for i in range(start, data.shape[0], step):\n",
    "        train = data.iloc[0:i].copy()\n",
    "        test = data.iloc[i:(i+step)].copy()\n",
    "        predictions = predict(train, test, predictors, model)\n",
    "        all_predictions.append(predictions)\n",
    "    return pd.concat(all_predictions)"
   ]
  },
  {
   "cell_type": "code",
   "execution_count": null,
   "id": "330d58dd-6e0c-4daf-ad69-06c573a8c70e",
   "metadata": {},
   "outputs": [],
   "source": [
    "predictions = backtest(tatamotors, model, predictors)\n",
    "print(\"\\n🔢 Prediction Distribution:\")\n",
    "print(predictions[\"Predictions\"].value_counts())\n",
    "print(\"🎯 Precision Score:\", precision_score(predictions[\"Target\"], predictions[\"Predictions\"]))\n",
    "print(\"📊 Actual Target Distribution:\")\n",
    "print(predictions[\"Target\"].value_counts(normalize=True))"
   ]
  },
  {
   "cell_type": "code",
   "execution_count": null,
   "id": "088d1077-ba4c-4944-b0c0-914def123197",
   "metadata": {},
   "outputs": [],
   "source": [
    "horizons = [2, 5, 20, 60, 250]   # Different time horizons for trend and moving average analysis\n",
    "new_predictors = []\n",
    "\n",
    "for horizon in horizons:\n",
    "    rolling_averages = tatamotors.rolling(horizon).mean()\n",
    "    ratio_column = f\"Close_Ratio_{horizon}\"\n",
    "    tatamotors[ratio_column] = tatamotors[\"Close\"] / rolling_averages[\"Close\"]\n",
    "\n",
    "    trend_column = f\"Trend_{horizon}\"\n",
    "    tatamotors[trend_column] = tatamotors[\"Target\"].shift(1).rolling(horizon).sum()\n",
    "\n",
    "    new_predictors += [ratio_column, trend_column]"
   ]
  },
  {
   "cell_type": "code",
   "execution_count": null,
   "id": "e6d96aa3-37f3-47f2-859a-eed2386bccf7",
   "metadata": {},
   "outputs": [],
   "source": [
    "model = RandomForestClassifier(n_estimators=200, min_samples_split=50, random_state=1)"
   ]
  },
  {
   "cell_type": "code",
   "execution_count": null,
   "id": "2c9b2368-142c-40c9-90ae-dae2ebe19f1b",
   "metadata": {},
   "outputs": [],
   "source": [
    "def predict(train, test, predictors, model):\n",
    "    model.fit(train[predictors], train[\"Target\"])\n",
    "    probs = model.predict_proba(test[predictors])[:, 1]  # Probability of class 1 (price increase)\n",
    "    preds = (probs >= 0.6).astype(int)                   # Apply custom threshold\n",
    "    preds = pd.Series(preds, index=test.index, name=\"Predictions\")\n",
    "    return pd.concat([test[\"Target\"], preds], axis=1)"
   ]
  },
  {
   "cell_type": "code",
   "execution_count": null,
   "id": "08f5cccd-40ca-4adf-b3a6-52e12c547698",
   "metadata": {},
   "outputs": [],
   "source": [
    "predictions = backtest(tatamotors, model, new_predictors)\n",
    "print(\"\\n✅ Improved Model Prediction Counts:\")\n",
    "print(predictions[\"Predictions\"].value_counts())\n",
    "print(\"🎯 Improved Model Precision Score:\", precision_score(predictions[\"Target\"], predictions[\"Predictions\"]))"
   ]
  }
 ],
 "metadata": {
  "kernelspec": {
   "display_name": "Python [conda env:base] *",
   "language": "python",
   "name": "conda-base-py"
  },
  "language_info": {
   "codemirror_mode": {
    "name": "ipython",
    "version": 3
   },
   "file_extension": ".py",
   "mimetype": "text/x-python",
   "name": "python",
   "nbconvert_exporter": "python",
   "pygments_lexer": "ipython3",
   "version": "3.12.7"
  }
 },
 "nbformat": 4,
 "nbformat_minor": 5
}
